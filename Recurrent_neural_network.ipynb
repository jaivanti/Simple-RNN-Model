{
  "nbformat": 4,
  "nbformat_minor": 0,
  "metadata": {
    "colab": {
      "name": "Copy of Recurrent neural network",
      "provenance": [],
      "authorship_tag": "ABX9TyPBof7//u0UrD7kb2mUVKrP"
    },
    "kernelspec": {
      "name": "python3",
      "display_name": "Python 3"
    }
  },
  "cells": [
    {
      "cell_type": "markdown",
      "metadata": {
        "id": "JfKnW29ZwglD",
        "colab_type": "text"
      },
      "source": [
        "TASK1: INTRODUCTION"
      ]
    },
    {
      "cell_type": "code",
      "metadata": {
        "id": "4Tta4UYIxnJ1",
        "colab_type": "code",
        "colab": {
          "base_uri": "https://localhost:8080/",
          "height": 139
        },
        "outputId": "f0e03c8f-8836-4efd-fc57-80ebf7e310e1"
      },
      "source": [
        "!pip install nn_utils"
      ],
      "execution_count": null,
      "outputs": [
        {
          "output_type": "stream",
          "text": [
            "Collecting nn_utils\n",
            "\u001b[?25l  Downloading https://files.pythonhosted.org/packages/dc/9d/e71db8903643a187b55310289bcd6175bbba7cae6547d9511a4334056cd2/nn_utils-0.1.0-py2.py3-none-any.whl (326kB)\n",
            "\u001b[K     |████████████████████████████████| 327kB 2.7MB/s \n",
            "\u001b[?25hRequirement already satisfied: numpy>=0.1.4 in /usr/local/lib/python3.6/dist-packages (from nn_utils) (1.18.4)\n",
            "Installing collected packages: nn-utils\n",
            "Successfully installed nn-utils-0.1.0\n"
          ],
          "name": "stdout"
        }
      ]
    },
    {
      "cell_type": "code",
      "metadata": {
        "id": "CY3jzxbRmnsP",
        "colab_type": "code",
        "colab": {}
      },
      "source": [
        "import numpy as np\n",
        "from tensorflow.keras.models import Sequential\n",
        "from tensorflow.keras.layers import TimeDistributed, Dense, Dropout, SimpleRNN, RepeatVector\n",
        "from tensorflow.keras.callbacks import EarlyStopping, LambdaCallback\n",
        "import nn_utils\n",
        "from termcolor import colored"
      ],
      "execution_count": null,
      "outputs": []
    },
    {
      "cell_type": "markdown",
      "metadata": {
        "id": "JWiGF6Otwt8x",
        "colab_type": "text"
      },
      "source": [
        "TASK2: GENERATE DATA"
      ]
    },
    {
      "cell_type": "code",
      "metadata": {
        "id": "vuJ14a8eoWQY",
        "colab_type": "code",
        "colab": {}
      },
      "source": [
        "all_chars='0123456789+'"
      ],
      "execution_count": null,
      "outputs": []
    },
    {
      "cell_type": "code",
      "metadata": {
        "id": "xbSABnGpoytz",
        "colab_type": "code",
        "colab": {
          "base_uri": "https://localhost:8080/",
          "height": 34
        },
        "outputId": "bdb24be5-414c-4ae0-c60e-011086023f72"
      },
      "source": [
        "num_feature=len(all_chars)\n",
        "print('number of features:',num_feature)\n",
        "char_to_index=dict((c,i) for i,c in enumerate(all_chars))\n",
        "index_to_char=dict((i,c) for i,c in enumerate (all_chars))"
      ],
      "execution_count": null,
      "outputs": [
        {
          "output_type": "stream",
          "text": [
            "number of features: 11\n"
          ],
          "name": "stdout"
        }
      ]
    },
    {
      "cell_type": "code",
      "metadata": {
        "id": "hzVwptOCptLL",
        "colab_type": "code",
        "colab": {
          "base_uri": "https://localhost:8080/",
          "height": 34
        },
        "outputId": "105e8b92-e7ee-4f6a-b843-4dce13d762ed"
      },
      "source": [
        "def generate_data():\n",
        "  first=np.random.randint(0,100)\n",
        "  second=np.random.randint(0,100)\n",
        "  example=str(first)+ '+'+str(second)\n",
        "  label=str(first+second)\n",
        "  return example,label\n",
        "generate_data()  "
      ],
      "execution_count": null,
      "outputs": [
        {
          "output_type": "execute_result",
          "data": {
            "text/plain": [
              "('50+31', '81')"
            ]
          },
          "metadata": {
            "tags": []
          },
          "execution_count": 6
        }
      ]
    },
    {
      "cell_type": "markdown",
      "metadata": {
        "id": "0EbOT2rEwznO",
        "colab_type": "text"
      },
      "source": [
        "TASK3: CREATE THE MODEL\n",
        "\n",
        "consider two reviews:\n",
        "\n",
        "review 1: This movie is not terrible at all.\n",
        "\n",
        "review 2: This movie is pretty descent."
      ]
    },
    {
      "cell_type": "code",
      "metadata": {
        "id": "hOos6clBq-0B",
        "colab_type": "code",
        "colab": {
          "base_uri": "https://localhost:8080/",
          "height": 289
        },
        "outputId": "74533e63-8133-4558-cfda-990c859a238f"
      },
      "source": [
        "hidden_units=128\n",
        "max_time_steps=5\n",
        "model=Sequential([\n",
        "                  SimpleRNN(hidden_units, input_shape=(None, num_feature)),\n",
        "                  RepeatVector(max_time_steps),\n",
        "                  SimpleRNN(hidden_units, return_sequences=True),\n",
        "                  TimeDistributed(Dense(num_feature, activation='softmax'))\n",
        "])\n",
        "model.compile(\n",
        "    loss='categorical_crossentropy',\n",
        "    optimizer='adam',\n",
        "    metrics=['accuracy']\n",
        ")\n",
        "model.summary()"
      ],
      "execution_count": null,
      "outputs": [
        {
          "output_type": "stream",
          "text": [
            "Model: \"sequential\"\n",
            "_________________________________________________________________\n",
            "Layer (type)                 Output Shape              Param #   \n",
            "=================================================================\n",
            "simple_rnn (SimpleRNN)       (None, 128)               17920     \n",
            "_________________________________________________________________\n",
            "repeat_vector (RepeatVector) (None, 5, 128)            0         \n",
            "_________________________________________________________________\n",
            "simple_rnn_1 (SimpleRNN)     (None, 5, 128)            32896     \n",
            "_________________________________________________________________\n",
            "time_distributed (TimeDistri (None, 5, 11)             1419      \n",
            "=================================================================\n",
            "Total params: 52,235\n",
            "Trainable params: 52,235\n",
            "Non-trainable params: 0\n",
            "_________________________________________________________________\n"
          ],
          "name": "stdout"
        }
      ]
    },
    {
      "cell_type": "markdown",
      "metadata": {
        "id": "1h0Lb7jKJxrl",
        "colab_type": "text"
      },
      "source": [
        "TASK4: VECTORISE AND DEVECTORISE DATA"
      ]
    },
    {
      "cell_type": "code",
      "metadata": {
        "id": "oqHLG0IZJ8e0",
        "colab_type": "code",
        "colab": {
          "base_uri": "https://localhost:8080/",
          "height": 51
        },
        "outputId": "94d06594-a832-4e75-de3a-501ed6234a07"
      },
      "source": [
        "def vectorize_example(example, label):\n",
        "  x=np.zeros((max_time_steps, num_feature))\n",
        "  y=np.zeros((max_time_steps, num_feature))\n",
        "\n",
        "  diff_x=max_time_steps - len(example)\n",
        "  diff_y=max_time_steps - len(label)\n",
        "\n",
        "  for i,c in enumerate(example):\n",
        "    x[i+diff_x, char_to_index[c]]=1\n",
        "  for i in range(diff_x):\n",
        "    x[i,char_to_index['0']]=1  \n",
        "  for i,c in enumerate(label):\n",
        "    y[i+diff_y, char_to_index[c]]=1\n",
        "  for i in range(diff_y):\n",
        "    y[i,char_to_index['0']]=1 \n",
        "  return x, y\n",
        "m=1  \n",
        "e,m=generate_data()\n",
        "print(e, m)\n",
        "\n",
        "x, y = vectorize_example(e, m)\n",
        "print(x.shape, y.shape)\n"
      ],
      "execution_count": null,
      "outputs": [
        {
          "output_type": "stream",
          "text": [
            "74+82 156\n",
            "(5, 11) (5, 11)\n"
          ],
          "name": "stdout"
        }
      ]
    },
    {
      "cell_type": "code",
      "metadata": {
        "id": "A35hIrCZWGhR",
        "colab_type": "code",
        "colab": {
          "base_uri": "https://localhost:8080/",
          "height": 34
        },
        "outputId": "dd3fc0fd-1e9f-437f-b5e6-834438bca4ce"
      },
      "source": [
        "def devectorize_example(example):\n",
        "  result=[index_to_char[np.argmax(vec)] for i,vec in enumerate(example)]\n",
        "  return''.join(result)\n",
        "\n",
        "devectorize_example(x)  "
      ],
      "execution_count": null,
      "outputs": [
        {
          "output_type": "execute_result",
          "data": {
            "text/plain": [
              "'74+82'"
            ]
          },
          "metadata": {
            "tags": []
          },
          "execution_count": 9
        }
      ]
    },
    {
      "cell_type": "code",
      "metadata": {
        "id": "72NHfOaSalPi",
        "colab_type": "code",
        "colab": {
          "base_uri": "https://localhost:8080/",
          "height": 34
        },
        "outputId": "77d4f167-0523-4d20-b29e-9b118723a073"
      },
      "source": [
        "  devectorize_example(y)"
      ],
      "execution_count": null,
      "outputs": [
        {
          "output_type": "execute_result",
          "data": {
            "text/plain": [
              "'00156'"
            ]
          },
          "metadata": {
            "tags": []
          },
          "execution_count": 10
        }
      ]
    },
    {
      "cell_type": "markdown",
      "metadata": {
        "id": "2gK0eJyvatsf",
        "colab_type": "text"
      },
      "source": [
        "TASK5:CREATE DATASET"
      ]
    },
    {
      "cell_type": "code",
      "metadata": {
        "id": "ebPqbTCGaxJm",
        "colab_type": "code",
        "colab": {
          "base_uri": "https://localhost:8080/",
          "height": 34
        },
        "outputId": "0c35256e-a3c9-4c0a-dc9b-cc1b2a37aa5c"
      },
      "source": [
        "def create_dataset(num_examples=2000):\n",
        "  x=np.zeros((num_examples, max_time_steps, num_feature))\n",
        "  y=np.zeros((num_examples, max_time_steps, num_feature))\n",
        "  for i in range(num_examples):\n",
        "    m=1\n",
        "    e, m = generate_data()\n",
        "    e_v, m_v = vectorize_example(e,m)\n",
        "    x[i]=e_v\n",
        "    y[i]=m_v\n",
        "  return x, y\n",
        "x,y= create_dataset()\n",
        "print(x.shape,y.shape)    "
      ],
      "execution_count": null,
      "outputs": [
        {
          "output_type": "stream",
          "text": [
            "(2000, 5, 11) (2000, 5, 11)\n"
          ],
          "name": "stdout"
        }
      ]
    },
    {
      "cell_type": "code",
      "metadata": {
        "id": "WerglAQUcB_Z",
        "colab_type": "code",
        "colab": {
          "base_uri": "https://localhost:8080/",
          "height": 34
        },
        "outputId": "de1f346f-0cb9-488e-fe62-5a1bb68361fa"
      },
      "source": [
        "devectorize_example(x[0])"
      ],
      "execution_count": null,
      "outputs": [
        {
          "output_type": "execute_result",
          "data": {
            "text/plain": [
              "'54+57'"
            ]
          },
          "metadata": {
            "tags": []
          },
          "execution_count": 12
        }
      ]
    },
    {
      "cell_type": "code",
      "metadata": {
        "id": "7waj6j7QcK5W",
        "colab_type": "code",
        "colab": {
          "base_uri": "https://localhost:8080/",
          "height": 34
        },
        "outputId": "25b8ae7f-5812-4f53-9d53-2f997531387b"
      },
      "source": [
        "devectorize_example(y[0])"
      ],
      "execution_count": null,
      "outputs": [
        {
          "output_type": "execute_result",
          "data": {
            "text/plain": [
              "'00111'"
            ]
          },
          "metadata": {
            "tags": []
          },
          "execution_count": 13
        }
      ]
    },
    {
      "cell_type": "markdown",
      "metadata": {
        "id": "zYb0MvdFcVmp",
        "colab_type": "text"
      },
      "source": [
        "TASK6:TRAINING THE MODEL"
      ]
    },
    {
      "cell_type": "code",
      "metadata": {
        "id": "XIB9jUpOcZjl",
        "colab_type": "code",
        "colab": {
          "base_uri": "https://localhost:8080/",
          "height": 71
        },
        "outputId": "066f7ac5-080d-471a-a10f-8d94da39ad53"
      },
      "source": [
        "\n",
        "m_cb = LambdaCallback(\n",
        "    on_epoch_end=lambda\n",
        "    e, m: print('{:.2f}'.format(m['val_accuracy']), end='-')\n",
        ")\n",
        "es_cb=EarlyStopping(monitor='val_loss',patience=10)\n",
        "model.fit(x, y, epochs=500, batch_size=256, validation_split=0.2,\n",
        "          verbose=False, callbacks=[es_cb,m_cb])"
      ],
      "execution_count": null,
      "outputs": [
        {
          "output_type": "stream",
          "text": [
            "0.55-0.60-0.62-0.61-0.62-0.63-0.63-0.63-0.64-0.63-0.64-0.65-0.66-0.65-0.65-0.66-0.66-0.67-0.67-0.68-0.69-0.70-0.70-0.70-0.71-0.72-0.72-0.72-0.71-0.72-0.74-0.74-0.75-0.74-0.75-0.75-0.74-0.75-0.77-0.76-0.77-0.76-0.77-0.77-0.78-0.78-0.79-0.80-0.80-0.80-0.80-0.81-0.82-0.82-0.82-0.83-0.83-0.84-0.84-0.85-0.85-0.86-0.87-0.86-0.87-0.88-0.87-0.88-0.88-0.87-0.88-0.89-0.89-0.89-0.90-0.90-0.90-0.90-0.91-0.90-0.91-0.91-0.91-0.91-0.92-0.92-0.92-0.92-0.93-0.92-0.92-0.93-0.92-0.92-0.93-0.93-0.93-0.93-0.93-0.93-0.94-0.93-0.93-0.94-0.94-0.93-0.94-0.94-0.94-0.94-0.94-0.94-0.94-0.94-0.94-0.94-0.94-0.94-0.94-0.94-0.94-0.94-0.94-0.94-0.94-0.94-0.94-0.94-0.94-0.94-0.94-0.94-0.94-0.94-0.94-0.94-0.94-0.94-0.94-0.95-0.94-0.94-0.94-0.94-0.95-0.94-0.95-0.94-0.95-0.94-0.94-0.95-0.95-0.95-0.95-0.94-0.95-0.95-0.95-"
          ],
          "name": "stdout"
        },
        {
          "output_type": "execute_result",
          "data": {
            "text/plain": [
              "<tensorflow.python.keras.callbacks.History at 0x7f98ac5b4fd0>"
            ]
          },
          "metadata": {
            "tags": []
          },
          "execution_count": 14
        }
      ]
    },
    {
      "cell_type": "code",
      "metadata": {
        "id": "xr7GgTmfGl4c",
        "colab_type": "code",
        "colab": {
          "base_uri": "https://localhost:8080/",
          "height": 187
        },
        "outputId": "4109ceac-606b-42f7-b9e7-14f61b1a736c"
      },
      "source": [
        "x_test, y_test= create_dataset(10)\n",
        "preds = model.predict(x_test)\n",
        "\n",
        "for i,pred in enumerate(preds):\n",
        "  y=devectorize_example(y_test[i])\n",
        "  y_hat=devectorize_example(pred)\n",
        "  col='green'\n",
        "  if y != y_hat:\n",
        "    col='red'\n",
        "  out='Input:'+devectorize_example(x_test[i])+'out:'+y+'pred:'+y_hat \n",
        "  print(colored(out,col))"
      ],
      "execution_count": null,
      "outputs": [
        {
          "output_type": "stream",
          "text": [
            "\u001b[32mInput:04+26out:00030pred:00030\u001b[0m\n",
            "\u001b[32mInput:62+15out:00077pred:00077\u001b[0m\n",
            "\u001b[31mInput:10+95out:00105pred:00106\u001b[0m\n",
            "\u001b[32mInput:90+62out:00152pred:00152\u001b[0m\n",
            "\u001b[32mInput:49+69out:00118pred:00118\u001b[0m\n",
            "\u001b[32mInput:22+50out:00072pred:00072\u001b[0m\n",
            "\u001b[32mInput:54+61out:00115pred:00115\u001b[0m\n",
            "\u001b[32mInput:49+56out:00105pred:00105\u001b[0m\n",
            "\u001b[32mInput:47+33out:00080pred:00080\u001b[0m\n",
            "\u001b[31mInput:49+36out:00085pred:00075\u001b[0m\n"
          ],
          "name": "stdout"
        }
      ]
    },
    {
      "cell_type": "code",
      "metadata": {
        "id": "QjkbCgUBa6hg",
        "colab_type": "code",
        "colab": {}
      },
      "source": [
        ""
      ],
      "execution_count": null,
      "outputs": []
    }
  ]
}